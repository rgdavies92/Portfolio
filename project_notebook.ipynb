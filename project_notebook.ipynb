{
 "cells": [
  {
   "cell_type": "markdown",
   "metadata": {
    "focus": false,
    "id": "69b9a648-bcc7-490d-9f9b-ea244d156bd6"
   },
   "source": [
    "# Web Scraping for Indeed.com and Predicting Salaries"
   ]
  },
  {
   "cell_type": "markdown",
   "metadata": {},
   "source": [
    "## Business Case Overview\n",
    "\n",
    "You're working as a data scientist for a contracting firm that's rapidly expanding. Now that they have their most valuable employee (you!), they need to leverage data to win more contracts. Your firm offers technology and scientific solutions and wants to be competitive in the hiring market. Your principal wants you to\n",
    "\n",
    "   - determine the industry factors that are most important in predicting the salary amounts for these data.\n",
    "\n",
    "To limit the scope, your principal has suggested that you *focus on data-related job postings*, e.g. data scientist, data analyst, research scientist, business intelligence, and any others you might think of. You may also want to decrease the scope by *limiting your search to a single region.*\n",
    "\n",
    "Hint: Aggregators like [Indeed.com](https://www.indeed.com) regularly pool job postings from a variety of markets and industries.\n",
    "\n",
    "**Goal:** Scrape your own data from a job aggregation tool like Indeed.com in order to collect the data to best answer this question.\n",
    "\n",
    "---\n",
    "\n",
    "### Directions\n",
    "\n",
    "In this project you will be leveraging a variety of skills. The first will be to use the web-scraping and/or API techniques you've learned to collect data on data jobs from Indeed.com or another aggregator. Once you have collected and cleaned the data, you will use it to address the question above."
   ]
  },
  {
   "cell_type": "markdown",
   "metadata": {},
   "source": [
    "### Factors that impact salary\n",
    "\n",
    "To predict salary the most appropriate approach would be a regression model.\n",
    "Here instead we just want to estimate which factors (like location, job title, job level, industry sector) lead to high or low salary and work with a classification model. To do so, split the salary into two groups of high and low salary, for example by choosing the median salary as a threshold (in principle you could choose any single or multiple splitting points).\n",
    "\n",
    "Use all the skills you have learned so far to build a predictive model.\n",
    "Whatever you decide to use, the most important thing is to justify your choices and interpret your results. *Communication of your process is key.* Note that most listings **DO NOT** come with salary information. You'll need to be able to extrapolate or predict the expected salaries for these listings."
   ]
  },
  {
   "cell_type": "markdown",
   "metadata": {
    "ExecuteTime": {
     "end_time": "2022-02-23T23:13:30.402170Z",
     "start_time": "2022-02-23T23:13:30.389740Z"
    }
   },
   "source": [
    "### Model evaluation requirements\n",
    "\n",
    "Your boss would rather tell a client incorrectly that they would get a lower salary job than tell a client incorrectly that they would get a high salary job. Adjust **one of your models** to ease his mind, and explain what it is doing and any tradeoffs.\n",
    "\n",
    "\n",
    "- Use cross-validation to evaluate your models.\n",
    "- Evaluate the accuracy, AUC, precision and recall of the models.\n",
    "- Plot the ROC and precision-recall curves for at least one of your models.\n"
   ]
  },
  {
   "cell_type": "markdown",
   "metadata": {
    "ExecuteTime": {
     "end_time": "2022-02-23T21:46:37.544087Z",
     "start_time": "2022-02-23T21:46:37.538031Z"
    }
   },
   "source": [
    "### Bonus Problems\n",
    "\n",
    "- Answer the salary discussion by using your model to explain the tradeoffs between detecting high vs low salary positions. \n",
    "- Discuss the differences and explain when you want a high-recall or a high-precision model in this scenario.\n",
    "- Obtain the ROC/precision-recall curves for the different models you studied (at least the tuned model of each category) and compare."
   ]
  },
  {
   "cell_type": "markdown",
   "metadata": {
    "focus": false,
    "id": "a948d79c-5527-4c0d-ab23-f5d43ce72056"
   },
   "source": [
    "## Scraping job listings from Indeed.com"
   ]
  },
  {
   "cell_type": "code",
   "execution_count": 1,
   "metadata": {
    "ExecuteTime": {
     "end_time": "2022-02-25T16:14:27.660080Z",
     "start_time": "2022-02-25T16:14:25.736151Z"
    },
    "code_folding": [
     0
    ],
    "focus": false,
    "id": "2efefc73-064a-482d-b3b5-ddf5508cb4ec"
   },
   "outputs": [],
   "source": [
    "# Import packages \n",
    "\n",
    "import requests\n",
    "import numpy as np\n",
    "import bs4\n",
    "import pandas as pd\n",
    "from bs4 import BeautifulSoup\n",
    "from tqdm import tqdm\n",
    "import time \n",
    "import random\n",
    "import csv\n",
    "import datetime\n",
    "import glob\n",
    "import re\n",
    "import scipy.stats as stats\n",
    "import seaborn as sns\n",
    "import matplotlib.pyplot as plt\n",
    "import pprint"
   ]
  },
  {
   "cell_type": "code",
   "execution_count": 2,
   "metadata": {
    "ExecuteTime": {
     "end_time": "2022-02-25T16:14:28.854470Z",
     "start_time": "2022-02-25T16:14:27.663011Z"
    }
   },
   "outputs": [
    {
     "data": {
      "text/plain": [
       "15"
      ]
     },
     "execution_count": 2,
     "metadata": {},
     "output_type": "execute_result"
    }
   ],
   "source": [
    "# Sample URL\n",
    "URL = \"http://www.indeed.com/jobs?q=data+scientist+%2420%2C000&l=New+York&start=20\"\n",
    "\n",
    "# Request job search results from sample page\n",
    "r = requests.get(URL)\n",
    "soup = BeautifulSoup(r.text, 'html.parser')\n",
    "\n",
    "# Count job search results from sample page\n",
    "len(soup.find_all('div', class_='job_seen_beacon'))"
   ]
  },
  {
   "cell_type": "markdown",
   "metadata": {},
   "source": [
    "*I've used the inspect tool in Chrome to identify ('table', class_='job_seen_beacon') as the template for each new job produced by an Indeed search. There are 15 jobs per page. There seem to be very few jobs with a salary range.*"
   ]
  },
  {
   "cell_type": "code",
   "execution_count": 3,
   "metadata": {
    "ExecuteTime": {
     "end_time": "2022-02-25T16:14:28.872201Z",
     "start_time": "2022-02-25T16:14:28.856145Z"
    },
    "code_folding": [
     0
    ],
    "scrolled": true
   },
   "outputs": [
    {
     "name": "stdout",
     "output_type": "stream",
     "text": [
      "('<div class=\"job_seen_beacon\">\\n'\n",
      " ' <table cellpadding=\"0\" cellspacing=\"0\" class=\"jobCard_mainContent '\n",
      " 'big6_visualChanges\" role=\"presentation\">\\n'\n",
      " '  <tbody>\\n'\n",
      " '   <tr>\\n'\n",
      " '    <td class=\"resultContent\">\\n'\n",
      " '     <div class=\"heading4 color-text-primary singleLineTitle '\n",
      " 'tapItem-gutter\">\\n'\n",
      " '      <h2 class=\"jobTitle jobTitle-color-purple\">\\n'\n",
      " '       <span title=\"Data Scientist\">\\n'\n",
      " '        Data Scientist\\n'\n",
      " '       </span>\\n'\n",
      " '      </h2>\\n'\n",
      " '     </div>\\n'\n",
      " '     <div class=\"heading6 company_location tapItem-gutter companyInfo\">\\n'\n",
      " '      <span class=\"companyName\">\\n'\n",
      " '       Dopple\\n'\n",
      " '      </span>\\n'\n",
      " '      <div class=\"companyLocation\">\\n'\n",
      " '       Remote in New York, NY\\n'\n",
      " '      </div>\\n'\n",
      " '     </div>\\n'\n",
      " '     <div class=\"heading6 tapItem-gutter metadataContainer noJEMChips '\n",
      " 'salaryOnly\">\\n'\n",
      " '      <div class=\"metadata\">\\n'\n",
      " '       <div class=\"attribute_snippet\">\\n'\n",
      " '        <svg aria-hidden=\"true\" aria-label=\"Job type\" fill=\"none\" '\n",
      " 'height=\"13\" role=\"presentation\" viewbox=\"0 0 14 13\" width=\"14\" '\n",
      " 'xmlns=\"http://www.w3.org/2000/svg\">\\n'\n",
      " '         <path clip-rule=\"evenodd\" d=\"M4.50226.5c-.27614 '\n",
      " '0-.5.223858-.5.5v2.1H.5c-.276142 '\n",
      " '0-.5.22386-.5.5v1.9h14V3.6c0-.27614-.2239-.5-.5-.5h-3.4977V1c0-.276142-.22389-.5-.50004-.5h-5Zm4.19962 '\n",
      " '2.6H5.30344V1.8h3.39844v1.3Z\" fill=\"#595959\" fill-rule=\"evenodd\">\\n'\n",
      " '         </path>\\n'\n",
      " '         <path d=\"M5.70117 6.80005H0v5.20005c0 .2761.223857.5.5.5h13c.2761 0 '\n",
      " '.5-.2239.5-.5V6.80005H8.30117v.80322c0 .27614-.22386.5-.5.5h-1.6c-.27614 '\n",
      " '0-.5-.22386-.5-.5v-.80322Z\" fill=\"#595959\">\\n'\n",
      " '         </path>\\n'\n",
      " '        </svg>\\n'\n",
      " '        Full-time\\n'\n",
      " '       </div>\\n'\n",
      " '      </div>\\n'\n",
      " '     </div>\\n'\n",
      " '     <div class=\"heading6 error-text tapItem-gutter\">\\n'\n",
      " '     </div>\\n'\n",
      " '    </td>\\n'\n",
      " '   </tr>\\n'\n",
      " '  </tbody>\\n'\n",
      " ' </table>\\n'\n",
      " ' <table class=\"jobCardShelfContainer big6_visualChanges\" '\n",
      " 'role=\"presentation\">\\n'\n",
      " '  <tbody>\\n'\n",
      " '   <tr class=\"jobCardShelf\">\\n'\n",
      " '   </tr>\\n'\n",
      " '   <tr class=\"underShelfFooter\">\\n'\n",
      " '    <td>\\n'\n",
      " '     <div class=\"heading6 tapItem-gutter result-footer\">\\n'\n",
      " '      <div class=\"job-snippet\">\\n'\n",
      " '       <ul style=\"list-style-type:circle;margin-top: 0px;margin-bottom: '\n",
      " '0px;padding-left:20px;\">\\n'\n",
      " '        <li>\\n'\n",
      " '         4+ years experience in\\n'\n",
      " '         <b>\\n'\n",
      " '          data\\n'\n",
      " '         </b>\\n'\n",
      " '         science or engineering roles, building and launching successful '\n",
      " 'data-driven products at scale.\\n'\n",
      " '        </li>\\n'\n",
      " '       </ul>\\n'\n",
      " '      </div>\\n'\n",
      " '      <span class=\"date\">\\n'\n",
      " '       <span class=\"visually-hidden\">\\n'\n",
      " '        Posted\\n'\n",
      " '       </span>\\n'\n",
      " '       30+ days ago\\n'\n",
      " '      </span>\\n'\n",
      " '      <span class=\"result-link-bar-separator\">\\n'\n",
      " '       ·\\n'\n",
      " '      </span>\\n'\n",
      " '      <button aria-expanded=\"false\" class=\"sl resultLink more_links_button\" '\n",
      " 'type=\"button\">\\n'\n",
      " '       More...\\n'\n",
      " '      </button>\\n'\n",
      " '     </div>\\n'\n",
      " '     <div class=\"tab-container\">\\n'\n",
      " '      <div class=\"more-links-container result-tab\" role=\"presentation\">\\n'\n",
      " '       <div class=\"more_links\">\\n'\n",
      " '        <button aria-label=\"Close\" class=\"close-button\" title=\"Close\" '\n",
      " 'type=\"button\">\\n'\n",
      " '        </button>\\n'\n",
      " '        <ul>\\n'\n",
      " '         <li>\\n'\n",
      " '          <span class=\"mat\">\\n'\n",
      " '           View all\\n'\n",
      " '           <a href=\"/q-Dopple-l-New-York,-NY-jobs.html\">\\n'\n",
      " '            Dopple jobs in New York, NY\\n'\n",
      " '           </a>\\n'\n",
      " '           -\\n'\n",
      " '           <a href=\"/l-New-York,-NY-jobs.html\">\\n'\n",
      " '            New York jobs\\n'\n",
      " '           </a>\\n'\n",
      " '          </span>\\n'\n",
      " '         </li>\\n'\n",
      " '         <li>\\n'\n",
      " '          <span class=\"mat\">\\n'\n",
      " '           Salary Search:\\n'\n",
      " '           <a '\n",
      " 'href=\"/career/data-scientist/salaries/New-York--NY?campaignid=serp-more&amp;fromjk=e91a586242bbbafd&amp;from=serp-more\">\\n'\n",
      " '            Data Scientist salaries in New York, NY\\n'\n",
      " '           </a>\\n'\n",
      " '          </span>\\n'\n",
      " '         </li>\\n'\n",
      " '        </ul>\\n'\n",
      " '       </div>\\n'\n",
      " '      </div>\\n'\n",
      " '     </div>\\n'\n",
      " '    </td>\\n'\n",
      " '   </tr>\\n'\n",
      " '  </tbody>\\n'\n",
      " ' </table>\\n'\n",
      " ' <div aria-live=\"polite\">\\n'\n",
      " ' </div>\\n'\n",
      " '</div>')\n"
     ]
    }
   ],
   "source": [
    "# Prettify and review a single job result\n",
    "prettyHTML = soup.find_all('div', class_='job_seen_beacon')[0].prettify() \n",
    "pprint.pprint(prettyHTML)"
   ]
  },
  {
   "cell_type": "markdown",
   "metadata": {
    "focus": false,
    "id": "f1eddb90-4ba8-483c-a229-77e93aa53119"
   },
   "source": [
    "## Write functions to extract each items from a job listing"
   ]
  },
  {
   "cell_type": "code",
   "execution_count": 4,
   "metadata": {
    "ExecuteTime": {
     "end_time": "2022-02-25T16:14:28.888325Z",
     "start_time": "2022-02-25T16:14:28.879282Z"
    },
    "code_folding": []
   },
   "outputs": [],
   "source": [
    "# Save a sample job to test functions on - it's unlikely that this will be well poplated with data\n",
    "result=soup.find_all('div', class_='job_seen_beacon')[3]"
   ]
  },
  {
   "cell_type": "code",
   "execution_count": 5,
   "metadata": {
    "ExecuteTime": {
     "end_time": "2022-02-25T16:14:28.898223Z",
     "start_time": "2022-02-25T16:14:28.890751Z"
    },
    "code_folding": [
     2,
     9,
     16,
     23,
     30,
     37
    ]
   },
   "outputs": [],
   "source": [
    "# Extraction function definitions\n",
    "\n",
    "def extract_location_from_result(result):\n",
    "    try:\n",
    "        j_location = result.find('div', attrs={'class':'companyLocation'}).text.strip()\n",
    "    except:\n",
    "        j_location = np.nan         \n",
    "    return j_location\n",
    "\n",
    "def extract_employer_from_result(result):\n",
    "    try:\n",
    "        j_employer = result.find('span', attrs={'class':'companyName'}).text.strip()\n",
    "    except:\n",
    "        j_employer = np.nan         \n",
    "    return j_employer\n",
    "\n",
    "def extract_title_from_result(result):\n",
    "    try:\n",
    "        j_title = result.find('h2', attrs={'class':'jobTitle jobTitle-color-purple'}).text.strip().title()\n",
    "    except:\n",
    "        j_title = np.nan         \n",
    "    return j_title\n",
    "\n",
    "def extract_salary_from_result(result):\n",
    "    try:\n",
    "        j_salary = result.find('div', attrs={'class':'salary-snippet'}).text.strip()\n",
    "    except:\n",
    "        j_salary = np.nan         \n",
    "    return j_salary\n",
    "\n",
    "def extract_summary_from_result(result):\n",
    "    try:\n",
    "        j_summary = result.find('div', attrs={'class':'job-snippet'}).text.strip()\n",
    "    except:\n",
    "        j_summary = np.nan         \n",
    "    return j_summary\n",
    "\n",
    "def extract_employer_rating_from_result(result):\n",
    "    try:\n",
    "        j_employer_rating = result.find('span', attrs={'aria-hidden':True}).text.strip()\n",
    "    except:\n",
    "        j_employer_rating = np.nan         \n",
    "    return j_employer_rating\n",
    "        "
   ]
  },
  {
   "cell_type": "code",
   "execution_count": 6,
   "metadata": {
    "ExecuteTime": {
     "end_time": "2022-02-25T16:14:28.907401Z",
     "start_time": "2022-02-25T16:14:28.900890Z"
    },
    "code_folding": [
     0
    ],
    "scrolled": true
   },
   "outputs": [
    {
     "name": "stdout",
     "output_type": "stream",
     "text": [
      "Title: Data Scientist - Global Health\n",
      "Salary: nan\n",
      "Location: New York, NY 10017 (Tudor City area)\n",
      "Employer: System\n",
      "Employer rating: nan\n",
      "Summary: Collaborate with researchers and data scientists in global health to design and build better ways of linking data and knowledge.\n"
     ]
    }
   ],
   "source": [
    "#Print function results from a sample job card \n",
    "\n",
    "print('Title:',extract_title_from_result(result))\n",
    "print('Salary:',extract_salary_from_result(result))\n",
    "print('Location:',extract_location_from_result(result))\n",
    "print('Employer:',extract_employer_from_result(result))\n",
    "print('Employer rating:',extract_employer_rating_from_result(result))\n",
    "print('Summary:',extract_summary_from_result(result))"
   ]
  },
  {
   "cell_type": "markdown",
   "metadata": {
    "focus": false,
    "id": "34070e89-9521-4b45-90c8-57a6599aac68"
   },
   "source": [
    "*Now I have this working for one job, it's time to scale it up.*"
   ]
  },
  {
   "cell_type": "markdown",
   "metadata": {
    "focus": false,
    "id": "e8beed7c-3e42-40c0-810f-5f67f8f885a0"
   },
   "source": [
    "## Construct a function to collect results from multiple cities and starting points. "
   ]
  },
  {
   "cell_type": "code",
   "execution_count": 7,
   "metadata": {
    "ExecuteTime": {
     "end_time": "2022-02-25T16:14:28.925840Z",
     "start_time": "2022-02-25T16:14:28.910509Z"
    },
    "code_folding": []
   },
   "outputs": [],
   "source": [
    "#Define job scrape function \n",
    "\n",
    "def scrape_jobs(scrape_dict):\n",
    "    \"\"\"Function designed to scrape jobs from Indeed.com\n",
    "    \n",
    "    Takes an input parameter dictionary in the form:\n",
    "    \n",
    "    {'num_pages' : 10,\n",
    "     'roles' : ['data_scientist','data_analyst'],\n",
    "     'cities' : ['London', 'Bristol'],\n",
    "     'site' : 'https://www.uk.indeed.com/jobs',\n",
    "     'currency' : 'GBP'}\n",
    "     \n",
    "    \"\"\"\n",
    "\n",
    "    #Function takes a scrape dictionary as input to define scrape parameters\n",
    "    num_pages = scrape_dict['num_pages']*10\n",
    "    site = scrape_dict['site']\n",
    "    currency = scrape_dict['currency']\n",
    "\n",
    "    # Iterate over cities in scrape_dict\n",
    "    for city in tqdm(scrape_dict['cities']):\n",
    "        \n",
    "        # Initialise empty lists to hold results\n",
    "        results = []\n",
    "        j_title = []\n",
    "        j_salary = []\n",
    "        j_location = []\n",
    "        j_employer = []\n",
    "        j_employer_rating = []\n",
    "        j_summary = []\n",
    "        search_city = []\n",
    "        search_role = []\n",
    "        \n",
    "        # Iterate over the specified number of pages of search results\n",
    "        for start in range(0, num_pages, 10):\n",
    "            \n",
    "            # Iterate over the specified roles to search for\n",
    "            for role in scrape_dict['roles']:\n",
    "                \n",
    "                # Use f-strings to make the search URL\n",
    "                url = f'{site}?q={role}&l={city}&start={start}'\n",
    "                # Slow the scrape down to appear a little human\n",
    "                time.sleep(random.randint(1,3))\n",
    "                # Use requests package to return HTML\n",
    "                r = requests.get(url)\n",
    "                # Use bs4 to parse the HTML\n",
    "                soup = BeautifulSoup(r.text, 'html.parser')\n",
    "                \n",
    "                # Iterate over the 15 search results on each page\n",
    "                for i in range(15):\n",
    "                    \n",
    "                    # Try and except to absorb errors without failing.\n",
    "                    try:\n",
    "                        \n",
    "                        # Append raw results from job_seen_beacon - redundancy measure\n",
    "                        results.append(soup.find_all('div', class_='job_seen_beacon')[i])\n",
    "                        \n",
    "                        # Append each piece of job data to the initialised list\n",
    "                        # Uses functions defined perviously\n",
    "                        smallsoup = soup.find_all('div', class_='job_seen_beacon')[i]\n",
    "                        j_title.append(extract_title_from_result(smallsoup))\n",
    "                        j_salary.append(extract_salary_from_result(smallsoup))\n",
    "                        j_location.append(extract_location_from_result(smallsoup))\n",
    "                        j_employer.append(extract_employer_from_result(smallsoup))\n",
    "                        j_employer_rating.append(extract_employer_rating_from_result(smallsoup))\n",
    "                        j_summary.append(extract_summary_from_result(smallsoup))\n",
    "                        search_city.append(city)\n",
    "                        search_role.append(role)\n",
    "                        \n",
    "                    except: \n",
    "                        pass\n",
    "\n",
    "        #Outputting df formatted data to csv    \n",
    "        now = (datetime.datetime.now().strftime(\"%d%B_%I%M%p\"))\n",
    "        jobs = pd.DataFrame({'title': j_title,\n",
    "                             'salary': j_salary,\n",
    "                             'location': j_location,\n",
    "                             'employer': j_employer,\n",
    "                             'employer_rating':j_employer_rating,\n",
    "                             'summary':j_summary,\n",
    "                             'search_city':search_city,\n",
    "                             'search_role':search_role})\n",
    "        filepathdf=f'df/{now}_{city}_{currency}.csv'\n",
    "        jobs.to_csv(filepathdf, index=False, header=['title','salary','location','employer','employer_rating','summary','search_city', 'search_role'] )\n",
    "\n",
    "        #Outputting raw scraped data for each city as csv - redundancy measure             \n",
    "        filepathraw=f'raw/{now}_{city}_{currency}.csv'\n",
    "        with open(filepathraw,'w', newline='') as f:\n",
    "            wr = csv.writer(f)\n",
    "            wr.writerows(results)"
   ]
  },
  {
   "cell_type": "code",
   "execution_count": 8,
   "metadata": {
    "ExecuteTime": {
     "end_time": "2022-02-25T16:14:28.935569Z",
     "start_time": "2022-02-25T16:14:28.927750Z"
    },
    "code_folding": [
     0
    ]
   },
   "outputs": [],
   "source": [
    "#Define input paramaters for job scrape function for different countries \n",
    "\n",
    "\n",
    "scrape_uk = {\n",
    "    'num_pages' : 80,\n",
    "    'roles' : ['data_scientist','data_analyst'],\n",
    "    'cities' : ['London', 'Bristol', 'Manchester', 'Leeds', 'Glasgow','Edinburgh', 'Liverpool', 'Oxford', \n",
    "              'Cambridge', 'Birmingham', 'Brighton', 'Leicester'],\n",
    "    'site' : 'https://www.uk.indeed.com/jobs',\n",
    "    'currency' : 'GBP'}\n",
    "\n",
    "scrape_us = {\n",
    "    'num_pages' : 80,\n",
    "    'roles' : ['data_scientist','data_analyst'],\n",
    "    'cities' : ['New+York', 'Chicago', 'San+Francisco', 'Austin', 'Seattle', \n",
    "                'Los+Angeles', 'Philadelphia', 'Atlanta', 'Dallas', 'Pittsburgh', \n",
    "                'Portland', 'Phoenix', 'Denver', 'Houston', 'Miami', 'Las+Vegas'],\n",
    "    'site' : 'https://www.indeed.com/jobs',\n",
    "    'currency' : 'USD'}\n",
    "\n",
    "scrape_fr = {\n",
    "    'num_pages' : 80,\n",
    "    'roles' : ['data_scientist','data_analyst'],\n",
    "    'cities' : ['Paris','Marseille','Lyon','Toulouse'],\n",
    "    'site' : 'https://www.fr.indeed.com/emplois',\n",
    "    'currency' : 'EUR'}\n",
    "\n",
    "scrape_de = {\n",
    "    'num_pages' : 80,\n",
    "    'roles' : ['data_scientist','data_analyst'],\n",
    "    'cities' : ['Berlin','Hamburg','Cologne','Munich','Frankfurt','Essen','Dortmund'],\n",
    "    'site' : 'https://www.de.indeed.com/jobs',\n",
    "    'currency' : 'EUR'}\n",
    "\n",
    "scrape_ca = {\n",
    "    'num_pages' : 80,\n",
    "    'roles' : ['data_scientist','data_analyst'],\n",
    "    'cities' : ['Toronto','Montreal','Ottawa','Calgary','Mississauga','Winnipeg','Vancouver'],\n",
    "    'site' : 'https://www.ca.indeed.com/jobs',\n",
    "    'currency' : 'CADUSD'}"
   ]
  },
  {
   "cell_type": "code",
   "execution_count": 9,
   "metadata": {
    "ExecuteTime": {
     "end_time": "2022-02-25T16:14:28.941993Z",
     "start_time": "2022-02-25T16:14:28.938558Z"
    },
    "code_folding": []
   },
   "outputs": [],
   "source": [
    "#Run the scrape function for each country - commented out so I don't run by accident\n",
    "\n",
    "#scrape_jobs(scrape_us)\n",
    "#scrape_jobs(scrape_uk)\n",
    "#scrape_jobs(scrape_fr)\n",
    "#scrape_jobs(scrape_de)\n",
    "#scrape_jobs(scrape_ca)"
   ]
  },
  {
   "cell_type": "markdown",
   "metadata": {},
   "source": [
    "*The data have been scraped and output to csv already. For this notebook we're just going to read in all csvs.*"
   ]
  },
  {
   "cell_type": "code",
   "execution_count": 10,
   "metadata": {
    "ExecuteTime": {
     "end_time": "2022-02-25T16:14:29.569760Z",
     "start_time": "2022-02-25T16:14:28.951210Z"
    },
    "code_folding": [
     0
    ]
   },
   "outputs": [],
   "source": [
    "# Read many many files from /df/ folder.\n",
    "\n",
    "# US scrape - Use glob to manipulate file names\n",
    "path = r'/Users/robertdavies/Desktop/DSI/GA_P2/DSI21-lessons/projects/project-4/df' \n",
    "all_files = glob.glob(path + \"/*_USD.csv\")\n",
    "\n",
    "li = []\n",
    "for filename in all_files:\n",
    "    df = pd.read_csv(filename, index_col=None, header=0)\n",
    "    li.append(df)\n",
    "\n",
    "jobs_us = pd.concat(li, axis=0, ignore_index=True)\n",
    "jobs_us['country']='US'\n",
    "\n",
    "# UK scrape\n",
    "path = r'/Users/robertdavies/Desktop/DSI/GA_P2/DSI21-lessons/projects/project-4/df' \n",
    "all_files = glob.glob(path + \"/*_GBP.csv\")\n",
    "\n",
    "li = []\n",
    "for filename in all_files:\n",
    "    df = pd.read_csv(filename, index_col=None, header=0)\n",
    "    li.append(df)\n",
    "\n",
    "jobs_uk = pd.concat(li, axis=0, ignore_index=True)\n",
    "jobs_uk['country']='UK'\n",
    "\n",
    "# EU scrape\n",
    "path = r'/Users/robertdavies/Desktop/DSI/GA_P2/DSI21-lessons/projects/project-4/df' # use your path\n",
    "all_files = glob.glob(path + \"/*_EUR.csv\")\n",
    "\n",
    "li = []\n",
    "for filename in all_files:\n",
    "    df = pd.read_csv(filename, index_col=None, header=0)\n",
    "    li.append(df)\n",
    "\n",
    "jobs_eu = pd.concat(li, axis=0, ignore_index=True)\n",
    "jobs_eu['country']='EU'\n",
    "\n",
    "# CAN scrape\n",
    "path = r'/Users/robertdavies/Desktop/DSI/GA_P2/DSI21-lessons/projects/project-4/df' # use your path\n",
    "all_files = glob.glob(path + \"/*_CADUSD.csv\")\n",
    "\n",
    "li = []\n",
    "for filename in all_files:\n",
    "    df = pd.read_csv(filename, index_col=None, header=0)\n",
    "    li.append(df)\n",
    "\n",
    "jobs_ca = pd.concat(li, axis=0, ignore_index=True)\n",
    "jobs_ca['country']='CA'"
   ]
  },
  {
   "cell_type": "code",
   "execution_count": 11,
   "metadata": {
    "ExecuteTime": {
     "end_time": "2022-02-25T16:14:29.575766Z",
     "start_time": "2022-02-25T16:14:29.571940Z"
    },
    "code_folding": [
     0
    ]
   },
   "outputs": [
    {
     "name": "stdout",
     "output_type": "stream",
     "text": [
      "US jobs df shape after importing all: (46394, 9)\n",
      "UK jobs df shape after importing all: (26993, 9)\n",
      "EU jobs df shape after importing all: (7750, 9)\n",
      "CA jobs df shape after importing all: (8628, 9)\n"
     ]
    }
   ],
   "source": [
    "# Print shape of df's on input \n",
    "print('US jobs df shape after importing all:',jobs_us.shape)\n",
    "print('UK jobs df shape after importing all:',jobs_uk.shape)\n",
    "print('EU jobs df shape after importing all:',jobs_eu.shape)\n",
    "print('CA jobs df shape after importing all:',jobs_ca.shape)"
   ]
  },
  {
   "cell_type": "markdown",
   "metadata": {
    "focus": false,
    "id": "ff98ce64-78a7-441f-a675-63464e32c834"
   },
   "source": [
    "*Now, we need to clean up salary data.*\n",
    "\n",
    "1. *Only a small number of the scraped results have salary information - only these will be used for modeling.*\n",
    "1. *Some of the salaries are not yearly but hourly or weekly, these will not be useful to us for now.*\n",
    "1. *Some of the entries may be duplicated.*\n",
    "1. *The salaries are given as text and usually with ranges.*"
   ]
  },
  {
   "cell_type": "code",
   "execution_count": 12,
   "metadata": {
    "ExecuteTime": {
     "end_time": "2022-02-25T16:14:29.642252Z",
     "start_time": "2022-02-25T16:14:29.578427Z"
    },
    "code_folding": [
     0
    ],
    "focus": false,
    "id": "58533e57-f86b-494a-b841-e7b59c6229c6"
   },
   "outputs": [
    {
     "name": "stdout",
     "output_type": "stream",
     "text": [
      "US jobs df shape after dropping duplicates (10543, 9)\n",
      "UK jobs df shape after dropping duplicates (3671, 9)\n",
      "EU jobs df shape after dropping duplicates (2157, 9)\n",
      "CA jobs df shape after dropping duplicates (2157, 9)\n",
      "US jobs df shape after dropping missing salaries (421, 9)\n",
      "UK jobs df shape after dropping missing salaries (1340, 9)\n",
      "EU jobs df shape after dropping missing salaries (148, 9)\n",
      "CA jobs df shape after dropping missing salaries (232, 9)\n"
     ]
    }
   ],
   "source": [
    "# Print shape of df's through filtering/preprocessing \n",
    "\n",
    "# Drop duplicates from each\n",
    "jobs_us.drop_duplicates(subset=['title','location'], keep='first', inplace=True)\n",
    "jobs_uk.drop_duplicates(subset=['title','location'], keep='first', inplace=True)\n",
    "jobs_eu.drop_duplicates(subset=['title','location'], keep='first', inplace=True)\n",
    "jobs_ca.drop_duplicates(subset=['title','location'], keep='first', inplace=True)\n",
    "\n",
    "print('US jobs df shape after dropping duplicates',jobs_us.shape)\n",
    "print('UK jobs df shape after dropping duplicates',jobs_uk.shape)\n",
    "print('EU jobs df shape after dropping duplicates',jobs_eu.shape)\n",
    "print('CA jobs df shape after dropping duplicates',jobs_eu.shape)\n",
    "\n",
    "# Drop jobs with NaN salary\n",
    "jobs_us.dropna(subset=['salary'], inplace=True)\n",
    "jobs_uk.dropna(subset=['salary'], inplace=True)\n",
    "jobs_eu.dropna(subset=['salary'], inplace=True)\n",
    "jobs_ca.dropna(subset=['salary'], inplace=True)\n",
    "\n",
    "print('US jobs df shape after dropping missing salaries',jobs_us.shape)\n",
    "print('UK jobs df shape after dropping missing salaries',jobs_uk.shape)\n",
    "print('EU jobs df shape after dropping missing salaries',jobs_eu.shape)\n",
    "print('CA jobs df shape after dropping missing salaries',jobs_ca.shape)\n",
    "\n",
    "# Initially I was going to only retain annual salaries, but I decided to keep all and salvage them\n",
    "# jobs_us= jobs_us[jobs_us['salary'].str.contains('year')].copy()\n",
    "# jobs_uk= jobs_uk[jobs_uk['salary'].str.contains('year')].copy()\n",
    "# jobs_eu= jobs_eu[jobs_eu['salary'].str.contains('year')].copy()\n",
    "# jobs_ca= jobs_ca[jobs_ca['salary'].str.contains('year')].copy()"
   ]
  },
  {
   "cell_type": "markdown",
   "metadata": {
    "ExecuteTime": {
     "end_time": "2022-02-23T20:36:23.461485Z",
     "start_time": "2022-02-23T20:36:23.459064Z"
    }
   },
   "source": [
    "## Define functions to assist in data cleaning"
   ]
  },
  {
   "cell_type": "markdown",
   "metadata": {
    "focus": false,
    "id": "7d4bc860-b214-4f75-9cd0-b234830b1ec2"
   },
   "source": [
    "\n",
    "*We now define some functions to be used in data cleaning. These will be used to clean and convert all salaries to annual salaries in GBP*"
   ]
  },
  {
   "cell_type": "code",
   "execution_count": 13,
   "metadata": {
    "ExecuteTime": {
     "end_time": "2022-02-25T16:14:29.654427Z",
     "start_time": "2022-02-25T16:14:29.644298Z"
    },
    "code_folding": [
     0,
     2,
     60,
     63,
     66
    ],
    "focus": false,
    "id": "a0f701e0-80bd-40ba-9101-4535860c0968"
   },
   "outputs": [],
   "source": [
    "# Function definitions. Currency conversions are lazy but work \n",
    "\n",
    "def salary_tidy(x):\n",
    "    \"\"\"Function designed to format the salary column\"\"\"\n",
    "    #Step1 - replace unwanted charcaters\n",
    "    replace_chars = '$,.£&€'\n",
    "    for char in replace_chars:\n",
    "        x=x.replace(char,'')\n",
    "    \n",
    "    if ('day' or 'journée' or 'tag') in x.lower():\n",
    "        #Step2 - filter to retain all consecutive digits in a list\n",
    "        x = re.findall('[0-9]+',x)     \n",
    "        #Step3 - Return salary or average salary\n",
    "        if len(x)==1:\n",
    "            salary = int(x[0])\n",
    "            salary = salary*260\n",
    "        elif len(x)==2:\n",
    "            salary = (int(x[0])+int(x[1]))/2\n",
    "            salary = salary*260\n",
    "        else:\n",
    "            raise ValueError(\"The salary must have either one or two terms\")\n",
    "    elif ('week' or 'woche' or 'smeaine') in x.lower():\n",
    "        #Step2 - filter to retain all consecutive digits in a list\n",
    "        x = re.findall('[0-9]+',x)     \n",
    "        #Step3 - Return salary or average salary\n",
    "        if len(x)==1:\n",
    "            salary = int(x[0])\n",
    "            salary = salary*52\n",
    "        elif len(x)==2:\n",
    "            salary = (int(x[0])+int(x[1]))/2\n",
    "            salary = salary*52\n",
    "        else:\n",
    "            raise ValueError(\"The salary must have either one or two terms\")\n",
    "    elif ('month' or 'monat' or 'mois') in x.lower():\n",
    "        #Step2 - filter to retain all consecutive digits in a list\n",
    "        x = re.findall('[0-9]+',x)     \n",
    "        #Step3 - Return salary or average salary\n",
    "        if len(x)==1:\n",
    "            salary = int(x[0])\n",
    "            salary = salary*12\n",
    "        elif len(x)==2:\n",
    "            salary = (int(x[0])+int(x[1]))/2\n",
    "            salary=salary*12\n",
    "        else:\n",
    "            raise ValueError(\"The salary must have either one or two terms\")\n",
    "    else:\n",
    "        #Step2 - filter to retain all consecutive digits in a list\n",
    "        x = re.findall('[0-9]+',x)     \n",
    "        #Step3 - Return salary or average salary\n",
    "        if len(x)==1:\n",
    "            salary = int(x[0])\n",
    "        elif len(x)==2:\n",
    "            salary = (int(x[0])+int(x[1]))/2\n",
    "        else:\n",
    "            raise ValueError(\"The salary must have either one or two terms\")\n",
    "    return salary\n",
    "\n",
    "def replace_non_ascii(text, replace_char):\n",
    "    return re.sub(r'[^\\x00-\\x7F]+', replace_char, text)\n",
    "\n",
    "def convert_USD_to_GBP(x):\n",
    "    return x*0.74\n",
    "\n",
    "def convert_EUR_to_GBP(x):\n",
    "    return x*0.84\n",
    "\n",
    "def convert_CADUSD_to_GBP(x):\n",
    "    return x*0.58"
   ]
  },
  {
   "cell_type": "code",
   "execution_count": 14,
   "metadata": {
    "ExecuteTime": {
     "end_time": "2022-02-25T16:14:29.676642Z",
     "start_time": "2022-02-25T16:14:29.655905Z"
    },
    "code_folding": [
     0
    ]
   },
   "outputs": [],
   "source": [
    "# Clean salary columns for each of the jobs_country dataframes \n",
    "\n",
    "# Apply cleaning functions\n",
    "jobs_us.salary = jobs_us.salary.apply(lambda x: salary_tidy(x))\n",
    "jobs_us.salary = jobs_us.salary.apply(lambda x: convert_USD_to_GBP(x))\n",
    "jobs_uk.salary = jobs_uk.salary.apply(lambda x: salary_tidy(x))\n",
    "jobs_eu.salary = jobs_eu.salary.apply(lambda x: replace_non_ascii(x,''))\n",
    "jobs_eu.salary = jobs_eu.salary.apply(lambda x: salary_tidy(x))\n",
    "jobs_eu.salary = jobs_eu.salary.apply(lambda x: convert_EUR_to_GBP(x))\n",
    "jobs_ca.salary = jobs_ca.salary.apply(lambda x: salary_tidy(x))\n",
    "jobs_ca.salary = jobs_ca.salary.apply(lambda x: convert_USD_to_GBP(x))\n",
    "\n",
    "# Concatenate dataframes\n",
    "jobs = pd.concat([jobs_uk,jobs_us,jobs_eu, jobs_ca], axis=0, ignore_index=True)"
   ]
  },
  {
   "cell_type": "code",
   "execution_count": 15,
   "metadata": {
    "ExecuteTime": {
     "end_time": "2022-02-25T16:14:29.685769Z",
     "start_time": "2022-02-25T16:14:29.680511Z"
    },
    "code_folding": []
   },
   "outputs": [
    {
     "name": "stdout",
     "output_type": "stream",
     "text": [
      "US jobs df shape after salary cleaning (421, 9)\n",
      "UK jobs df shape after salary cleaning (1340, 9)\n",
      "EU jobs df shape after salary cleaning (148, 9)\n",
      "CA jobs df shape after salary cleaning (232, 9)\n",
      "Joint jobs df shape after salary cleaning and cat (2141, 9)\n"
     ]
    }
   ],
   "source": [
    "#Evaluate shape after cleaning dataframes and print \n",
    "\n",
    "print('US jobs df shape after salary cleaning',jobs_us.shape)\n",
    "print('UK jobs df shape after salary cleaning',jobs_uk.shape)\n",
    "print('EU jobs df shape after salary cleaning',jobs_eu.shape)\n",
    "print('CA jobs df shape after salary cleaning',jobs_ca.shape)\n",
    "print('Joint jobs df shape after salary cleaning and cat',jobs.shape)"
   ]
  },
  {
   "cell_type": "code",
   "execution_count": 16,
   "metadata": {
    "ExecuteTime": {
     "end_time": "2022-02-25T16:14:29.909575Z",
     "start_time": "2022-02-25T16:14:29.688802Z"
    },
    "code_folding": [],
    "scrolled": true
   },
   "outputs": [
    {
     "data": {
      "image/png": "[encoded data removed]",
      "text/plain": [
       "<Figure size 432x288 with 1 Axes>"
      ]
     },
     "metadata": {
      "needs_background": "light"
     },
     "output_type": "display_data"
    }
   ],
   "source": [
    "#Plot quick histogram of salaries \n",
    "jobs.salary.plot(kind='hist', bins=50,title='Histogram of scraped salaries');"
   ]
  },
  {
   "cell_type": "markdown",
   "metadata": {
    "focus": false,
    "id": "43e71edd-210e-42b1-9336-70a931f048af"
   },
   "source": [
    "## Write clean results to CSV"
   ]
  },
  {
   "cell_type": "code",
   "execution_count": 17,
   "metadata": {
    "ExecuteTime": {
     "end_time": "2022-02-25T16:14:29.937674Z",
     "start_time": "2022-02-25T16:14:29.911196Z"
    },
    "focus": false,
    "id": "783fd153-28ac-47ab-bfca-27e7c1de95b4"
   },
   "outputs": [],
   "source": [
    "jobs.to_csv('combined_jobs.csv', index=False, header=jobs.columns )"
   ]
  },
  {
   "cell_type": "markdown",
   "metadata": {
    "focus": false,
    "id": "243e949e-2742-40af-872e-fec475fd306c"
   },
   "source": [
    "## Read in the cleaned jobs CSV"
   ]
  },
  {
   "cell_type": "code",
   "execution_count": 18,
   "metadata": {
    "ExecuteTime": {
     "end_time": "2022-02-25T16:14:29.957351Z",
     "start_time": "2022-02-25T16:14:29.940028Z"
    },
    "focus": false,
    "id": "588f9845-6143-4bcc-bfd1-85d45b79303d"
   },
   "outputs": [],
   "source": [
    "jobs = pd.read_csv('combined_jobs.csv', index_col=None, header=0)\n",
    "\n",
    "# A little further cleaning to remove spaces in data\n",
    "jobs['search_role']=[x.replace(' ','_') for x in jobs['search_role']]"
   ]
  },
  {
   "cell_type": "markdown",
   "metadata": {
    "focus": false,
    "id": "c7631f51-07f2-4c79-a093-3e9bc7849a48"
   },
   "source": [
    "## We want to predict a binary variable - whether the salary was low or high. Compute the median salary and create a new binary variable that is true when the salary is high (above the median).\n",
    "\n",
    "*We could also perform Linear Regression (or any regression) to predict the salary value here. Instead, we are going to convert this into a _binary_ classification problem, by predicting two classes, HIGH vs LOW salary.*\n",
    "\n",
    "*While performing regression may be better, performing classification may help remove some of the noise of the extreme salaries. We don't have to choose the median as the splitting point - we could also split on the 75th percentile or any other reasonable breaking point. In this project however, we will split at the median value.*"
   ]
  },
  {
   "cell_type": "code",
   "execution_count": 19,
   "metadata": {
    "ExecuteTime": {
     "end_time": "2022-02-25T16:14:30.253315Z",
     "start_time": "2022-02-25T16:14:29.959033Z"
    },
    "focus": false,
    "id": "c20d2498-151c-44c3-a453-3a333c79a0ac"
   },
   "outputs": [
    {
     "name": "stdout",
     "output_type": "stream",
     "text": [
      "Salary median 45000.0\n",
      "Salary mean 50184.97963636364\n"
     ]
    }
   ],
   "source": [
    "# Drop jobs with salary < 2000 per year - these must be erroneous\n",
    "jobs = jobs[jobs['salary']>2000]\n",
    "\n",
    "# Define target binary variable\n",
    "print('Salary median',jobs.salary.median())\n",
    "print('Salary mean',jobs.salary.mean())\n",
    "jobs['above_median'] = [1 if x > jobs.salary.median() else 0 for x in jobs.salary]"
   ]
  },
  {
   "cell_type": "markdown",
   "metadata": {
    "focus": false,
    "id": "a7afb2c0-d41e-4779-8216-91cd8dd4473f"
   },
   "source": [
    "## Observe the baseline accuracy for our model?"
   ]
  },
  {
   "cell_type": "code",
   "execution_count": 20,
   "metadata": {
    "ExecuteTime": {
     "end_time": "2022-02-25T16:14:30.261123Z",
     "start_time": "2022-02-25T16:14:30.255515Z"
    },
    "focus": false,
    "id": "87a17d3d-b7f4-4747-9f75-f9af1d18a174"
   },
   "outputs": [
    {
     "data": {
      "text/plain": [
       "0.5267676767676768"
      ]
     },
     "execution_count": 20,
     "metadata": {},
     "output_type": "execute_result"
    }
   ],
   "source": [
    "# Baseline accuracy is just the proportion of the largest class\n",
    "jobs.above_median.value_counts(normalize=True).max()"
   ]
  },
  {
   "cell_type": "markdown",
   "metadata": {
    "focus": false,
    "id": "4fb29de2-5b98-474c-a4ad-5170b72b9aea"
   },
   "source": [
    "## Remove some salary outliers"
   ]
  },
  {
   "cell_type": "code",
   "execution_count": 21,
   "metadata": {
    "ExecuteTime": {
     "end_time": "2022-02-25T16:14:30.267733Z",
     "start_time": "2022-02-25T16:14:30.264061Z"
    },
    "code_folding": []
   },
   "outputs": [],
   "source": [
    "# Define a printing in bold function definition - for nice summary stats\n",
    "\n",
    "from IPython.display import Markdown, display\n",
    "def printmd(string):\n",
    "    display(Markdown(string))"
   ]
  },
  {
   "cell_type": "code",
   "execution_count": 22,
   "metadata": {
    "ExecuteTime": {
     "end_time": "2022-02-25T16:14:30.434373Z",
     "start_time": "2022-02-25T16:14:30.270170Z"
    },
    "code_folding": [],
    "scrolled": true
   },
   "outputs": [
    {
     "data": {
      "image/png": "[encoded data removed]",
      "text/plain": [
       "<Figure size 432x288 with 1 Axes>"
      ]
     },
     "metadata": {
      "needs_background": "light"
     },
     "output_type": "display_data"
    }
   ],
   "source": [
    "# Plot histogram of log salaries - this is for outlier analysis \n",
    "jobs['log_salary'] = [np.log(x) for x in jobs.salary]\n",
    "jobs.log_salary.plot(kind='hist', bins=50,title='Histogram of scraped log salaries', xlabel='Log of salary');"
   ]
  },
  {
   "cell_type": "code",
   "execution_count": 23,
   "metadata": {
    "ExecuteTime": {
     "end_time": "2022-02-25T16:14:30.618126Z",
     "start_time": "2022-02-25T16:14:30.436113Z"
    },
    "code_folding": [
     0
    ]
   },
   "outputs": [
    {
     "name": "stdout",
     "output_type": "stream",
     "text": [
      "DataFrame shape before dropping outliers (1980, 11)\n",
      "DataFrame shape after dropping outliers (1917, 11)\n"
     ]
    },
    {
     "data": {
      "image/png": "[encoded data removed]",
      "text/plain": [
       "<Figure size 432x288 with 1 Axes>"
      ]
     },
     "metadata": {
      "needs_background": "light"
     },
     "output_type": "display_data"
    }
   ],
   "source": [
    "#Plot histogram of log salaries after dropping outliers\n",
    "mask = np.abs((jobs.log_salary - jobs.log_salary.mean(0)) / jobs.log_salary.std(0)) > 3\n",
    "print('DataFrame shape before dropping outliers',jobs.shape)\n",
    "jobs= jobs[~mask]\n",
    "print('DataFrame shape after dropping outliers',jobs.shape)\n",
    "jobs.log_salary.plot(kind='hist', bins=50,title='Histogram of scraped salaries after dropping outliers');"
   ]
  },
  {
   "cell_type": "markdown",
   "metadata": {},
   "source": [
    "*Interestingly I don't think that it was really necessary for me to take the log of the salaries here as Logistic Regression does not make any assumptions of linearity between variables. However it certainly looks a little nicer this way and it is more robust for me to remove outliers from a normally distributed dataset rather than one with significant skew.*"
   ]
  },
  {
   "cell_type": "markdown",
   "metadata": {},
   "source": [
    "## High level EDA"
   ]
  },
  {
   "cell_type": "code",
   "execution_count": 24,
   "metadata": {
    "ExecuteTime": {
     "end_time": "2022-02-25T16:14:31.167836Z",
     "start_time": "2022-02-25T16:14:30.620140Z"
    },
    "code_folding": [
     0
    ]
   },
   "outputs": [
    {
     "data": {
      "image/png": "[encoded data removed]",
      "text/plain": [
       "<Figure size 1152x720 with 4 Axes>"
      ]
     },
     "metadata": {
      "needs_background": "light"
     },
     "output_type": "display_data"
    }
   ],
   "source": [
    "# High level EDA plot for the report! This is the data going into modeling.\n",
    "fig, ax = plt.subplots(ncols=2, nrows=2, figsize=(16,10))\n",
    "sns.histplot(data = jobs.log_salary, ax=ax[0,1], bins=50,color='skyblue')\n",
    "sns.histplot(data = jobs.salary, ax=ax[0,0], bins=50,color='skyblue')\n",
    "sns.barplot(x=['Scientist','Analyst'], y=[jobs.search_role.value_counts()[1],jobs.search_role.value_counts()[0]], ax=ax[1,0],color='skyblue')\n",
    "sns.barplot(x=pd.DataFrame(jobs.country.value_counts()).index, y=pd.DataFrame(jobs.country.value_counts()).country, ax=ax[1,1],color='skyblue')\n",
    "ax[0,0].set_title('Distribution of salaries after cleaning')\n",
    "ax[0,1].set_title('Distribution of log-salaries after cleaning')\n",
    "ax[1,0].set_title('Scraped jobs split scientist vs analyist')\n",
    "ax[1,1].set_title('Scraped jobs split by country')\n",
    "plt.suptitle('High level EDA', fontsize=19, y=0.95)\n",
    "plt.show()"
   ]
  },
  {
   "cell_type": "markdown",
   "metadata": {},
   "source": [
    "## Create a classification model to predict High/Low salary. "
   ]
  },
  {
   "cell_type": "code",
   "execution_count": 25,
   "metadata": {
    "ExecuteTime": {
     "end_time": "2022-02-25T16:14:31.716611Z",
     "start_time": "2022-02-25T16:14:31.169517Z"
    },
    "code_folding": [
     0
    ]
   },
   "outputs": [],
   "source": [
    "# Import libraries and classifiers I'll need \n",
    "\n",
    "from sklearn.model_selection import KFold, cross_val_score, train_test_split\n",
    "from sklearn.metrics import mean_squared_error\n",
    "from sklearn.preprocessing import StandardScaler\n",
    "from sklearn.linear_model import LogisticRegression\n",
    "from sklearn.metrics import plot_confusion_matrix\n",
    "from sklearn.metrics import classification_report, confusion_matrix, accuracy_score, roc_curve, roc_auc_score, f1_score, recall_score, precision_score\n",
    "from sklearn.model_selection import GridSearchCV\n",
    "from sklearn.feature_extraction.text import CountVectorizer\n",
    "import nltk\n",
    "from nltk.corpus import stopwords\n",
    "from nltk.stem import PorterStemmer\n"
   ]
  },
  {
   "cell_type": "markdown",
   "metadata": {},
   "source": [
    "*This is where some of the NLP starts. I'm going to use the nltk library to identify commonly occurring patterns in the job 'title' data.*\n",
    "\n",
    "*I use a PorterStemmer to stem the words in job 'title' before using CountVectorizer to convert the text data to numerical occurrences of the top 40 stemmed words. Some tailored stop words have been applied and n-grams are limited to one word in length. I did test n-grams up to length three but ultimately they didn't improve model accuracy, so we proceed with one.*"
   ]
  },
  {
   "cell_type": "code",
   "execution_count": 26,
   "metadata": {
    "ExecuteTime": {
     "end_time": "2022-02-25T16:14:31.798873Z",
     "start_time": "2022-02-25T16:14:31.718242Z"
    },
    "code_folding": []
   },
   "outputs": [
    {
     "name": "stderr",
     "output_type": "stream",
     "text": [
      "/Users/robertdavies/opt/anaconda3/envs/salaries_env/lib/python3.9/site-packages/sklearn/utils/deprecation.py:87: FutureWarning: Function get_feature_names is deprecated; get_feature_names is deprecated in 1.0 and will be removed in 1.2. Please use get_feature_names_out instead.\n",
      "  warnings.warn(msg, category=FutureWarning)\n"
     ]
    }
   ],
   "source": [
    "# Stemming and CountVectorizing the jobs.title column to obtain top 40 occuring words in a dataframe \n",
    "stemmer = PorterStemmer()\n",
    "jobs['title']=['no_title' if str(x) == 'nan' else str(x) for x in jobs['title']]\n",
    "jobs['title']=[stemmer.stem(x) for x in jobs['title']]\n",
    "#jobs['search_role']=[x.replace(' ','_') for x in jobs['search_role']]\n",
    "stop = stopwords.words('english')\n",
    "stop += ['no_titl','na']\n",
    "cvec = CountVectorizer(stop_words=stop, max_features=40,   ngram_range=(1, 1))\n",
    "cvec.fit(jobs.title)\n",
    "vec_title = pd.DataFrame(cvec.transform(jobs.title).toarray(),columns=cvec.get_feature_names())"
   ]
  },
  {
   "cell_type": "code",
   "execution_count": 27,
   "metadata": {
    "ExecuteTime": {
     "end_time": "2022-02-25T16:14:31.830498Z",
     "start_time": "2022-02-25T16:14:31.800796Z"
    },
    "code_folding": []
   },
   "outputs": [
    {
     "name": "stderr",
     "output_type": "stream",
     "text": [
      "/Users/robertdavies/opt/anaconda3/envs/salaries_env/lib/python3.9/site-packages/sklearn/utils/deprecation.py:87: FutureWarning: Function get_feature_names is deprecated; get_feature_names is deprecated in 1.0 and will be removed in 1.2. Please use get_feature_names_out instead.\n",
      "  warnings.warn(msg, category=FutureWarning)\n"
     ]
    },
    {
     "data": {
      "text/html": [
       "<div>\n",
       "<style scoped>\n",
       "    .dataframe tbody tr th:only-of-type {\n",
       "        vertical-align: middle;\n",
       "    }\n",
       "\n",
       "    .dataframe tbody tr th {\n",
       "        vertical-align: top;\n",
       "    }\n",
       "\n",
       "    .dataframe thead th {\n",
       "        text-align: right;\n",
       "    }\n",
       "</style>\n",
       "<table border=\"1\" class=\"dataframe\">\n",
       "  <thead>\n",
       "    <tr style=\"text-align: right;\">\n",
       "      <th></th>\n",
       "      <th>analyst</th>\n",
       "      <th>data</th>\n",
       "      <th>business</th>\n",
       "      <th>senior</th>\n",
       "      <th>scientist</th>\n",
       "      <th>bi</th>\n",
       "      <th>machine</th>\n",
       "      <th>learning</th>\n",
       "      <th>intelligence</th>\n",
       "      <th>research</th>\n",
       "      <th>engin</th>\n",
       "      <th>analytics</th>\n",
       "      <th>lead</th>\n",
       "      <th>develop</th>\n",
       "      <th>risk</th>\n",
       "      <th>systems</th>\n",
       "      <th>engineer</th>\n",
       "      <th>reporting</th>\n",
       "      <th>insight</th>\n",
       "      <th>science</th>\n",
       "    </tr>\n",
       "  </thead>\n",
       "  <tbody>\n",
       "    <tr>\n",
       "      <th>Occurrence count</th>\n",
       "      <td>1069</td>\n",
       "      <td>710</td>\n",
       "      <td>355</td>\n",
       "      <td>256</td>\n",
       "      <td>254</td>\n",
       "      <td>114</td>\n",
       "      <td>79</td>\n",
       "      <td>78</td>\n",
       "      <td>76</td>\n",
       "      <td>60</td>\n",
       "      <td>53</td>\n",
       "      <td>52</td>\n",
       "      <td>51</td>\n",
       "      <td>49</td>\n",
       "      <td>48</td>\n",
       "      <td>47</td>\n",
       "      <td>46</td>\n",
       "      <td>38</td>\n",
       "      <td>38</td>\n",
       "      <td>37</td>\n",
       "    </tr>\n",
       "  </tbody>\n",
       "</table>\n",
       "</div>"
      ],
      "text/plain": [
       "                  analyst  data  business  senior  scientist   bi  machine  \\\n",
       "Occurrence count     1069   710       355     256        254  114       79   \n",
       "\n",
       "                  learning  intelligence  research  engin  analytics  lead  \\\n",
       "Occurrence count        78            76        60     53         52    51   \n",
       "\n",
       "                  develop  risk  systems  engineer  reporting  insight  \\\n",
       "Occurrence count       49    48       47        46         38       38   \n",
       "\n",
       "                  science  \n",
       "Occurrence count       37  "
      ]
     },
     "execution_count": 27,
     "metadata": {},
     "output_type": "execute_result"
    }
   ],
   "source": [
    "# Plot of most common occuring words\n",
    "words= cvec.get_feature_names()\n",
    "document_matrix = cvec.transform(jobs.title) \n",
    "b = document_matrix.sum(axis=0)\n",
    "c1 = pd.DataFrame(b, columns=words).transpose().sort_values(by=0, ascending=False)[:20]\n",
    "c1.columns = ['Occurrence count']\n",
    "c1.T"
   ]
  },
  {
   "cell_type": "markdown",
   "metadata": {},
   "source": [
    "*This is the output from NLP that I'm going to join with the other predictors.*\n",
    "\n",
    "*In the cell below we perform a train-test split, join the NLP data with the existing jobs dataset  and drop some columns which haven't proved to be beneficial to modelling.*"
   ]
  },
  {
   "cell_type": "code",
   "execution_count": 28,
   "metadata": {
    "ExecuteTime": {
     "end_time": "2022-02-25T16:14:31.860405Z",
     "start_time": "2022-02-25T16:14:31.838869Z"
    },
    "code_folding": [
     0
    ]
   },
   "outputs": [],
   "source": [
    "# Train test split\n",
    "jobs.reset_index(inplace=True,drop=True)\n",
    "jobs.country = [x if str(x) != 'EU' else 'FR_DE' for x in jobs.country]\n",
    "X = jobs.join(vec_title)\n",
    "X = X.drop(labels=['salary','location','employer'\n",
    "                     ,'title','summary','employer_rating',\n",
    "                    'above_median','log_salary']\n",
    "                    ,axis=1)\n",
    "X = pd.get_dummies(X,columns =['search_city','country','search_role'] ,drop_first=True)\n",
    "y = jobs['above_median']\n",
    "\n",
    "X_train, X_test, y_train, y_test = train_test_split(X, y, test_size= 0.2, random_state=1, stratify= y)"
   ]
  },
  {
   "cell_type": "code",
   "execution_count": null,
   "metadata": {
    "ExecuteTime": {
     "start_time": "2022-02-25T16:14:25.812Z"
    },
    "code_folding": [
     0
    ]
   },
   "outputs": [],
   "source": [
    "# Define, fit and evaluate a elastic net logistic regression classifier. Hyperparameters optimised.\n",
    "\n",
    "sc = StandardScaler()\n",
    "X_train = pd.DataFrame(sc.fit_transform(X_train),columns = X_train.columns)\n",
    "X_test = pd.DataFrame(sc.transform(X_test),columns = X_test.columns)\n",
    "\n",
    "log_reg_params = {\n",
    "    'penalty':  ['elasticnet'],\n",
    "    'C': np.logspace(-4, 4, 20),\n",
    "    'l1_ratio': np.linspace(0.00001,1,10),\n",
    "    'solver': ['saga'],\n",
    "    'max_iter':[5000]}\n",
    "\n",
    "lr_base = LogisticRegression()\n",
    "lr = GridSearchCV(lr_base, \n",
    "                     log_reg_params, \n",
    "                     n_jobs=2\n",
    "                     ,cv=5)\n",
    "lr.fit(X_train, y_train);"
   ]
  },
  {
   "cell_type": "code",
   "execution_count": null,
   "metadata": {
    "ExecuteTime": {
     "start_time": "2022-02-25T16:14:25.814Z"
    },
    "code_folding": [
     0
    ]
   },
   "outputs": [],
   "source": [
    "# Print success metrics\n",
    "printmd('**Elastic Net logistic regression classifier with multiple predictors and optimised hyperparameters**')\n",
    "print('Baseline accuracy:',y.value_counts(normalize=True).max())\n",
    "print('Train accuracy score: ',lr.best_estimator_.score(X_train, y_train))\n",
    "cvscore = cross_val_score(lr.best_estimator_, X_train, y_train, cv=5)\n",
    "print('Cross val accuracy: ',cvscore)\n",
    "print('Mean cross val accuracy score: ',cvscore.mean())\n",
    "print('Test accuracy:',lr.best_estimator_.score(X_test, y_test))\n",
    "print('\\nThe optimum Hyperparameters are printed below. Note that any parameters not included will be default: \\n',lr.best_estimator_)"
   ]
  },
  {
   "cell_type": "code",
   "execution_count": null,
   "metadata": {
    "ExecuteTime": {
     "start_time": "2022-02-25T16:14:25.818Z"
    },
    "code_folding": [
     0
    ]
   },
   "outputs": [],
   "source": [
    "# Evaluate coefficients\n",
    "\n",
    "# Define function to help interpret logistic regression results\n",
    "def logit2prob(logit_coef):\n",
    "    odds = np.exp(logit_coef)\n",
    "    prob = odds / (1 + odds)\n",
    "    return(prob)\n",
    "\n",
    "\n",
    "# Coefficients to df and plot\n",
    "lr_coefs = pd.DataFrame({'coef': lr.best_estimator_.coef_[0],\n",
    "                            'abs_coef': np.abs(lr.best_estimator_.coef_[0]),\n",
    "                            'std_dev': np.std(X_train),\n",
    "                            'Impact on odds of being an high paying job': np.exp(lr.best_estimator_.coef_[0]),\n",
    "                            'Probability of being an high paying job': np.exp(lr.best_estimator_.coef_[0])/(1+np.exp(lr.best_estimator_.coef_[0]))})\n",
    "lr_coefs.sort_values('abs_coef', inplace=True, ascending=False)\n",
    "fig, ax = plt.subplots(figsize=(5, 5))\n",
    "lr_coefs.iloc[:10,0].plot(kind='barh', ax=ax, alpha=0.5, title='Logistic regression coefficients')\n",
    "ax.set_yticklabels(lr_coefs.index[:10].values)\n",
    "plt.gca().invert_yaxis()\n",
    "plt.show()\n",
    "lr_coefs.head(10)"
   ]
  },
  {
   "cell_type": "markdown",
   "metadata": {},
   "source": [
    "*Using the logistic regression classifier we obtain predictor coefficients which can allow for interpretation of both how influential the predictor was and whether it had a positive or negative influence on the probability of the target variable (salary high/low) being 1 (high) or 0 (low).*\n",
    "    \n",
    "* *In terms of odds, an increase in 1 standard deviation of the search_role_data_scientist variable multiplies the odds of a high salary by 1.43. This is a positive predictor.*\n",
    "* *In terms of probability, a job with search_role_data_scientist = 1 impacts the probability of it being a high salary job by 0.59. Approximately 3 in 5 search_role_data_scientist jobs are classified as high salary.*\n",
    "\n",
    "\n",
    "* *In terms of odds, an increase in 1 standard deviation of the country_UK variable multiplies the odds of a high salary by 0.71. This is a negative predictor.*\n",
    "* *In terms of probability, a job with country_UK = 1 impacts the probability of it being a high salary job by 0.41. Approximately 2 in 5 country_UK jobs are classified as high salary.*\n"
   ]
  },
  {
   "cell_type": "markdown",
   "metadata": {},
   "source": [
    "## Evaluating the model"
   ]
  },
  {
   "cell_type": "code",
   "execution_count": null,
   "metadata": {
    "ExecuteTime": {
     "start_time": "2022-02-25T16:14:25.821Z"
    },
    "code_folding": [
     0
    ]
   },
   "outputs": [],
   "source": [
    "# Confusion matrix on test data for Elastic Net lr model\n",
    " \n",
    "fig, ax = plt.subplots( ncols=2 ,figsize=(12, 4), sharey=True)\n",
    "plot_confusion_matrix(lr.best_estimator_, X_test, y_test, cmap='Blues', ax=ax[0])\n",
    "plot_confusion_matrix(lr.best_estimator_, X_test, y_test, cmap='Blues', ax=ax[1], normalize='all')\n",
    "ax[0].set_title('Test Data Confusion Matrix')\n",
    "ax[1].set_title('Test Data Normalised Confusion Matrix')\n",
    "ax[0].xaxis.set_ticklabels(['0 - low salary', '1 - high salary']); ax[0].yaxis.set_ticklabels(['0 - low salary', '1 - high salary']);\n",
    "ax[1].xaxis.set_ticklabels(['0 - low salary', '1 - high salary']); ax[1].yaxis.set_ticklabels(['0 - low salary', '1 - high salary']);\n",
    "\n",
    "for a in ax:\n",
    "    texts = a.texts\n",
    "    for text in texts:\n",
    "        text.set_size(16)\n",
    "\n",
    "plt.show()"
   ]
  },
  {
   "cell_type": "markdown",
   "metadata": {},
   "source": [
    "*With a threshold of 0.5 as default, the Elastic Net lr model yields...* \n",
    "* *A ~11% False Negative rate. That is 11% of high paying jobs are wrongly predicted to be low paying jobs.*\n",
    "* *A ~9.6% False Positive rate. That is 9.6% of low paying jobs are wrongly predicted to be high paying jobs.*\n",
    "* *~79% of jobs are correctly predicted to be low or high paying.* "
   ]
  },
  {
   "cell_type": "code",
   "execution_count": null,
   "metadata": {
    "ExecuteTime": {
     "start_time": "2022-02-25T16:14:25.824Z"
    },
    "code_folding": [
     0
    ]
   },
   "outputs": [],
   "source": [
    "# Evaluating the AUR-ROC curve and precision-recall plot of Elastic Net lr model \n",
    "import scikitplot as skplt\n",
    "from matplotlib.colors import ListedColormap\n",
    "cmap = ListedColormap(sns.color_palette(\"husl\", 6))\n",
    "\n",
    "fig, ax = plt.subplots(ncols=2,figsize=(16,7))\n",
    "skplt.metrics.plot_precision_recall(y_test, lr.best_estimator_.predict_proba(X_test),\n",
    "                                    plot_micro=False,\n",
    "                                    title_fontsize=16, text_fontsize=8, cmap=cmap, ax=ax[0])\n",
    "skplt.metrics.plot_roc(y_test, lr.best_estimator_.predict_proba(X_test), plot_micro=False, plot_macro=False,\n",
    "                       title_fontsize=16, text_fontsize=8, cmap=cmap, ax=ax[1])\n",
    "plt.show()\n",
    "ax[0].legend(loc=[0.01, 0.01])\n",
    "ax[1].legend(loc=[0.01, 0.01])\n",
    "\n",
    "plt.show()"
   ]
  },
  {
   "cell_type": "markdown",
   "metadata": {},
   "source": [
    "*The precision-recall curve displays the relationship between the two attributes for each of the classes (1 is high paying job and 0 is a low paying job. In an ideal world we would obtain simultaneously high precision and recall, but often that's not possible.*\n",
    "\n",
    "*Precision of a class is defined to be TP/(TP+FP). It follows that Precision should increase as the FP rate decreases.*\n",
    "*Recall of a class is defined to be TP/(TP+FN). It follows that as Recall should increase as the FN rate decreases.*\n",
    "\n",
    "*The ROC curve for each class helps image how much better the model is performing than the baseline for a range of threshold values. An optimal False Positive Rate (FPR) and corresponding True Positive Rate (TPR) can be determined from the plot based on the business case in question.*\n",
    "\n",
    "*Reverting to the original question, it has been stressed that I should explain the model results in detail, as well as explain the tradeoffs between detecting high vs low salary positions. For this, I find the plots below more useful. In order to explain the model to my manager I would make specific reference to the threshold vs normalised FN, FP, TN and TP on the right.*"
   ]
  },
  {
   "cell_type": "code",
   "execution_count": null,
   "metadata": {
    "ExecuteTime": {
     "start_time": "2022-02-25T16:14:25.827Z"
    },
    "code_folding": [
     0
    ]
   },
   "outputs": [],
   "source": [
    "# Define some functions to help, then plot different scores at different thresholds\n",
    "def predict_at_threshold(x, threshold=0.5):\n",
    "    if x >= threshold:\n",
    "        return 1\n",
    "    else:\n",
    "        return 0\n",
    "\n",
    "def scores_at_thresholds(probs, test_data):\n",
    "    predictions = [probs.apply(predict_at_threshold, threshold=i) for i in np.linspace(0, 1, 100)]\n",
    "    scores = np.array(\n",
    "    [(threshold, \n",
    "      accuracy_score(test_data, predictions[i]),\n",
    "      precision_score(test_data, predictions[i],zero_division=1),\n",
    "      recall_score(test_data, predictions[i]), \n",
    "      f1_score(test_data, predictions[i]),\n",
    "      confusion_matrix(test_data,predictions[i], normalize='all')[1,0],\n",
    "      confusion_matrix(test_data,predictions[i], normalize='all')[0,1],\n",
    "      confusion_matrix(test_data,predictions[i], normalize='all')[0,0],\n",
    "      confusion_matrix(test_data,predictions[i], normalize='all')[1,1]) \n",
    "      \n",
    "     for i, threshold in enumerate(np.linspace(0, 1, 100))])\n",
    "    return scores\n",
    "\n",
    "Y_pp = pd.DataFrame(lr.best_estimator_.predict_proba(X_test), \n",
    "             columns=['class_0_predicted_probability_LoSal', 'class_1_predicted_probability_HiSal'])\n",
    "\n",
    "scores = scores_at_thresholds(Y_pp.class_1_predicted_probability_HiSal, y_test);\n",
    "\n",
    "fig, (ax1, ax2) = plt.subplots(ncols=2, figsize=(16,7))\n",
    "\n",
    "# Plot data\n",
    "ax1.plot(scores[:, 0], scores[:, 1], label='accuracy')\n",
    "ax1.plot(scores[:, 0], scores[:, 2], label='precision')\n",
    "ax1.plot(scores[:, 0], scores[:, 3], label='recall')\n",
    "ax1.plot(scores[:, 0], scores[:, 4], label='f1')\n",
    "ax2.plot(scores[:, 0], scores[:, 5], label='FN')\n",
    "ax2.plot(scores[:, 0], scores[:, 6], label='FP')\n",
    "ax2.plot(scores[:, 0], scores[:, 7], label='TN')\n",
    "ax2.plot(scores[:, 0], scores[:, 8], label='TP')\n",
    "\n",
    "# Adjust legends, titles and labels\n",
    "ax1.legend(loc=[0.01, 0.01])\n",
    "ax1.set_xlabel('Threshold')\n",
    "ax1.set_title('Threshold vs Accuracy, Precision, Recall and F1 for High Salary Predictions')\n",
    "ax2.legend(loc=[0.01, 0.45])\n",
    "ax2.set_xlabel('Threshold')\n",
    "ax2.set_title('Threshold vs Normalised FN, FP, TN and TP for High Salary Predictions')\n",
    "\n",
    "# Annotations\n",
    "circle_rad = 15  # This is the radius, in points\n",
    "point=[0.78,0.70]\n",
    "ax1.plot(point[0], point[1], 'o', ms=circle_rad * 1, mec='black', mfc='none', mew=1)\n",
    "ax1.annotate('70% Accuracy% at Threshold 0.78', xy=point, xytext=(-170, 100),\n",
    "            textcoords='offset points',\n",
    "            color='black', size='large',\n",
    "            arrowprops=dict(\n",
    "                arrowstyle='simple,tail_width=0.1,head_width=0.5,head_length=0.5',\n",
    "                facecolor='black', shrinkB=circle_rad * 1))\n",
    "\n",
    "point=[0.78,0.025]\n",
    "ax2.plot(point[0], point[1], 'o', ms=circle_rad * 1, mec='black', mfc='none', mew=1)\n",
    "ax2.annotate('FP=2.5% at Threshold 0.78', xy=point, xytext=(-90, 60),\n",
    "            textcoords='offset points',\n",
    "            color='black', size='large',\n",
    "            arrowprops=dict(\n",
    "                arrowstyle='simple,tail_width=0.1,head_width=0.5,head_length=0.5',\n",
    "                facecolor='black', shrinkB=circle_rad * 1))\n",
    "\n",
    "plt.show();"
   ]
  },
  {
   "cell_type": "markdown",
   "metadata": {},
   "source": [
    "*Focusing on the right hand plot, the FN number is the normalised number of high paying jobs which are wrongly predicted to be low paying jobs and the FP number is the normalised number low paying jobs which are wrongly predicted to be high paying jobs. We observe how varying the prediction threshold between 0 and 1 can alter the FP and FN statistics.*\n",
    "\n",
    "*Because my boss would rather tell a client incorrectly that they would get a lower salary job (FN) than tell a client incorrectly that they would get a high salary job (FP), I suggest that they consider the three circled 'sweet spot' on the right and the associated impact on overall accuracy on the left. The boss' request could be interpreted as wanting to minimise the FP rate for class 1 (above median salary) or as wanting to maximise the accuracy of class 1 (above median salary), these two are equivalent. Once they understand, it is then down to my boss to decide which threshold and corresponding FP/FN/Accuracy statistic would be acceptable for the company.*\n",
    "\n",
    "*Assuming the boss elects a threshold of 0.78, the model yields the following statistics.*"
   ]
  },
  {
   "cell_type": "code",
   "execution_count": null,
   "metadata": {
    "ExecuteTime": {
     "start_time": "2022-02-25T16:14:25.830Z"
    },
    "code_folding": [
     0
    ]
   },
   "outputs": [],
   "source": [
    "# Printing lr model classification report with threshold 0.78\n",
    "Y_pp['pred_class_thresh'] = Y_pp.class_1_predicted_probability_HiSal.apply(predict_at_threshold, \n",
    "                                                threshold=0.78)\n",
    "print(classification_report(y_test, Y_pp.pred_class_thresh))"
   ]
  },
  {
   "cell_type": "markdown",
   "metadata": {},
   "source": [
    "*This concludes the Jupyter Notebook. Most of this has been included in the readme file for this project.*"
   ]
  }
 ],
 "metadata": {
  "kernelspec": {
   "display_name": "salaries_env",
   "language": "python",
   "name": "salaries_env"
  },
  "language_info": {
   "codemirror_mode": {
    "name": "ipython",
    "version": 3
   },
   "file_extension": ".py",
   "mimetype": "text/x-python",
   "name": "python",
   "nbconvert_exporter": "python",
   "pygments_lexer": "ipython3",
   "version": "3.9.7"
  },
  "toc": {
   "base_numbering": 1,
   "nav_menu": {},
   "number_sections": false,
   "sideBar": true,
   "skip_h1_title": true,
   "title_cell": "Table of Contents",
   "title_sidebar": "Contents",
   "toc_cell": false,
   "toc_position": {
    "height": "calc(100% - 180px)",
    "left": "10px",
    "top": "150px",
    "width": "254.169px"
   },
   "toc_section_display": "block",
   "toc_window_display": true
  }
 },
 "nbformat": 4,
 "nbformat_minor": 1
}
